{
 "cells": [
  {
   "cell_type": "code",
   "execution_count": 1,
   "metadata": {},
   "outputs": [],
   "source": [
    "import pandas as pd\n",
    "import matplotlib.pyplot as plt\n",
    "import seaborn as sns\n",
    "import numpy as np"
   ]
  },
  {
   "cell_type": "code",
   "execution_count": 2,
   "metadata": {},
   "outputs": [
    {
     "data": {
      "text/html": [
       "<div>\n",
       "<style scoped>\n",
       "    .dataframe tbody tr th:only-of-type {\n",
       "        vertical-align: middle;\n",
       "    }\n",
       "\n",
       "    .dataframe tbody tr th {\n",
       "        vertical-align: top;\n",
       "    }\n",
       "\n",
       "    .dataframe thead th {\n",
       "        text-align: right;\n",
       "    }\n",
       "</style>\n",
       "<table border=\"1\" class=\"dataframe\">\n",
       "  <thead>\n",
       "    <tr style=\"text-align: right;\">\n",
       "      <th></th>\n",
       "      <th>id</th>\n",
       "      <th>name</th>\n",
       "      <th>brand_id</th>\n",
       "      <th>brand_name</th>\n",
       "      <th>parent_category_id</th>\n",
       "      <th>parent_category_name</th>\n",
       "      <th>category_id</th>\n",
       "      <th>category_id.1</th>\n",
       "      <th>price</th>\n",
       "      <th>image_url</th>\n",
       "    </tr>\n",
       "  </thead>\n",
       "  <tbody>\n",
       "    <tr>\n",
       "      <th>0</th>\n",
       "      <td>2926</td>\n",
       "      <td>사슴 배냇저고리 세트_Cotton</td>\n",
       "      <td>5</td>\n",
       "      <td>호호당</td>\n",
       "      <td>2.0</td>\n",
       "      <td>의류</td>\n",
       "      <td>25.0</td>\n",
       "      <td>신생아의류</td>\n",
       "      <td>42000</td>\n",
       "      <td>https://hohodangstore.co.kr/web/product/medium...</td>\n",
       "    </tr>\n",
       "    <tr>\n",
       "      <th>1</th>\n",
       "      <td>2929</td>\n",
       "      <td>아이 백일 선물 세트</td>\n",
       "      <td>5</td>\n",
       "      <td>호호당</td>\n",
       "      <td>1.0</td>\n",
       "      <td>용품</td>\n",
       "      <td>27.0</td>\n",
       "      <td>기타용품</td>\n",
       "      <td>92000</td>\n",
       "      <td>https://hohodangstore.co.kr/web/product/medium...</td>\n",
       "    </tr>\n",
       "    <tr>\n",
       "      <th>2</th>\n",
       "      <td>2930</td>\n",
       "      <td>[카드] 연하장 : New year 2021</td>\n",
       "      <td>5</td>\n",
       "      <td>호호당</td>\n",
       "      <td>1.0</td>\n",
       "      <td>용품</td>\n",
       "      <td>27.0</td>\n",
       "      <td>기타용품</td>\n",
       "      <td>2500</td>\n",
       "      <td>https://hohodangstore.co.kr/web/product/medium...</td>\n",
       "    </tr>\n",
       "    <tr>\n",
       "      <th>3</th>\n",
       "      <td>2931</td>\n",
       "      <td>[카드] 일상 : Thanks and love</td>\n",
       "      <td>5</td>\n",
       "      <td>호호당</td>\n",
       "      <td>1.0</td>\n",
       "      <td>용품</td>\n",
       "      <td>27.0</td>\n",
       "      <td>기타용품</td>\n",
       "      <td>2500</td>\n",
       "      <td>https://hohodangstore.co.kr/web/product/medium...</td>\n",
       "    </tr>\n",
       "    <tr>\n",
       "      <th>4</th>\n",
       "      <td>2932</td>\n",
       "      <td>금줄</td>\n",
       "      <td>5</td>\n",
       "      <td>호호당</td>\n",
       "      <td>1.0</td>\n",
       "      <td>용품</td>\n",
       "      <td>27.0</td>\n",
       "      <td>기타용품</td>\n",
       "      <td>35000</td>\n",
       "      <td>https://hohodangstore.co.kr/web/product/medium...</td>\n",
       "    </tr>\n",
       "  </tbody>\n",
       "</table>\n",
       "</div>"
      ],
      "text/plain": [
       "     id                       name  brand_id brand_name  parent_category_id  \\\n",
       "0  2926         사슴 배냇저고리 세트_Cotton         5        호호당                 2.0   \n",
       "1  2929                아이 백일 선물 세트         5        호호당                 1.0   \n",
       "2  2930   [카드] 연하장 : New year 2021         5        호호당                 1.0   \n",
       "3  2931  [카드] 일상 : Thanks and love         5        호호당                 1.0   \n",
       "4  2932                         금줄         5        호호당                 1.0   \n",
       "\n",
       "  parent_category_name  category_id category_id.1  price  \\\n",
       "0                   의류         25.0         신생아의류  42000   \n",
       "1                   용품         27.0          기타용품  92000   \n",
       "2                   용품         27.0          기타용품   2500   \n",
       "3                   용품         27.0          기타용품   2500   \n",
       "4                   용품         27.0          기타용품  35000   \n",
       "\n",
       "                                           image_url  \n",
       "0  https://hohodangstore.co.kr/web/product/medium...  \n",
       "1  https://hohodangstore.co.kr/web/product/medium...  \n",
       "2  https://hohodangstore.co.kr/web/product/medium...  \n",
       "3  https://hohodangstore.co.kr/web/product/medium...  \n",
       "4  https://hohodangstore.co.kr/web/product/medium...  "
      ]
     },
     "execution_count": 2,
     "metadata": {},
     "output_type": "execute_result"
    }
   ],
   "source": [
    "raw_df = pd.read_csv('./data/raw_data.csv')\n",
    "raw_df.head()"
   ]
  },
  {
   "cell_type": "code",
   "execution_count": 4,
   "metadata": {},
   "outputs": [
    {
     "data": {
      "image/png": "[encoded data removed]",
      "text/plain": [
       "<Figure size 720x432 with 1 Axes>"
      ]
     },
     "metadata": {
      "needs_background": "light"
     },
     "output_type": "display_data"
    }
   ],
   "source": [
    "plt.figure(figsize=(10, 6))\n",
    "sns.countplot(data=raw_df[raw_df['parent_category_id'] == 2], x='category_id')\n",
    "plt.title('p_category_id == 2 item count')\n",
    "plt.show()"
   ]
  },
  {
   "cell_type": "code",
   "execution_count": null,
   "metadata": {},
   "outputs": [],
   "source": []
  },
  {
   "cell_type": "code",
   "execution_count": null,
   "metadata": {},
   "outputs": [],
   "source": []
  }
 ],
 "metadata": {
  "interpreter": {
   "hash": "fff8a2ebda7d7c31fff9abc7af7b4b1a85e6e317ed9dea4607b41f7b3e93769e"
  },
  "kernelspec": {
   "display_name": "Python 3.8.11 64-bit ('ds_study': conda)",
   "language": "python",
   "name": "python3"
  },
  "language_info": {
   "codemirror_mode": {
    "name": "ipython",
    "version": 3
   },
   "file_extension": ".py",
   "mimetype": "text/x-python",
   "name": "python",
   "nbconvert_exporter": "python",
   "pygments_lexer": "ipython3",
   "version": "3.8.11"
  },
  "orig_nbformat": 4
 },
 "nbformat": 4,
 "nbformat_minor": 2
}
